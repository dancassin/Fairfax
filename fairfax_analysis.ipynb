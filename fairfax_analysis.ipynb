{
 "metadata": {
  "language_info": {
   "codemirror_mode": {
    "name": "ipython",
    "version": 3
   },
   "file_extension": ".py",
   "mimetype": "text/x-python",
   "name": "python",
   "nbconvert_exporter": "python",
   "pygments_lexer": "ipython3",
   "version": "3.8.2-final"
  },
  "orig_nbformat": 2,
  "kernelspec": {
   "name": "python38264bitpythonvenv7b1979810f344d6b88548673e63bb837",
   "display_name": "Python 3.8.2 64-bit ('python': venv)"
  }
 },
 "nbformat": 4,
 "nbformat_minor": 2,
 "cells": [
  {
   "cell_type": "code",
   "execution_count": 2,
   "metadata": {},
   "outputs": [],
   "source": [
    "# database and calcs\n",
    "import pandas as pd\n",
    "import numpy as np\n",
    "\n",
    "# visualization\n",
    "import matplotlib.pyplot as plt\n",
    "\n",
    "# linear regression\n",
    "from sklearn import linear_model\n",
    "import statsmodels.api as sm\n"
   ]
  },
  {
   "cell_type": "code",
   "execution_count": 13,
   "metadata": {
    "tags": []
   },
   "outputs": [
    {
     "output_type": "stream",
     "name": "stdout",
     "text": "<class 'pandas.core.frame.DataFrame'>\nRangeIndex: 71 entries, 0 to 70\nData columns (total 7 columns):\n #   Column              Non-Null Count  Dtype  \n---  ------              --------------  -----  \n 0   address             71 non-null     object \n 1   sale_date           71 non-null     object \n 2   sale_amount         71 non-null     int64  \n 3   current_building    71 non-null     int64  \n 4   current_land        71 non-null     int64  \n 5   general_fund_taxes  71 non-null     float64\n 6   special_tax_dist    71 non-null     float64\ndtypes: float64(2), int64(3), object(2)\nmemory usage: 4.0+ KB\n"
    },
    {
     "output_type": "execute_result",
     "data": {
      "text/plain": "                                     address   sale_date  sale_amount  \\\n0  5200 KINGS PARK DR   SPRINGFIELD VA 22151  03/19/2018       430000   \n1  5205 KINGS PARK DR   SPRINGFIELD VA 22151  11/01/2019       565000   \n2  5207 KINGS PARK DR   SPRINGFIELD VA 22151  11/19/2008       340000   \n3  5206 KINGS PARK DR   SPRINGFIELD VA 22151  11/21/2003       291000   \n4  5204 KINGS PARK DR   SPRINGFIELD VA 22151  02/17/1987       128500   \n\n   current_building  current_land  general_fund_taxes  special_tax_dist  \n0            337580        239000             6630.67            193.16  \n1            295780        237000             6126.97            178.48  \n2            259190        236000             5694.69            165.89  \n3            281090        237000             5958.04            173.56  \n4            266720        237000             5792.78            168.75  ",
      "text/html": "<div>\n<style scoped>\n    .dataframe tbody tr th:only-of-type {\n        vertical-align: middle;\n    }\n\n    .dataframe tbody tr th {\n        vertical-align: top;\n    }\n\n    .dataframe thead th {\n        text-align: right;\n    }\n</style>\n<table border=\"1\" class=\"dataframe\">\n  <thead>\n    <tr style=\"text-align: right;\">\n      <th></th>\n      <th>address</th>\n      <th>sale_date</th>\n      <th>sale_amount</th>\n      <th>current_building</th>\n      <th>current_land</th>\n      <th>general_fund_taxes</th>\n      <th>special_tax_dist</th>\n    </tr>\n  </thead>\n  <tbody>\n    <tr>\n      <th>0</th>\n      <td>5200 KINGS PARK DR   SPRINGFIELD VA 22151</td>\n      <td>03/19/2018</td>\n      <td>430000</td>\n      <td>337580</td>\n      <td>239000</td>\n      <td>6630.67</td>\n      <td>193.16</td>\n    </tr>\n    <tr>\n      <th>1</th>\n      <td>5205 KINGS PARK DR   SPRINGFIELD VA 22151</td>\n      <td>11/01/2019</td>\n      <td>565000</td>\n      <td>295780</td>\n      <td>237000</td>\n      <td>6126.97</td>\n      <td>178.48</td>\n    </tr>\n    <tr>\n      <th>2</th>\n      <td>5207 KINGS PARK DR   SPRINGFIELD VA 22151</td>\n      <td>11/19/2008</td>\n      <td>340000</td>\n      <td>259190</td>\n      <td>236000</td>\n      <td>5694.69</td>\n      <td>165.89</td>\n    </tr>\n    <tr>\n      <th>3</th>\n      <td>5206 KINGS PARK DR   SPRINGFIELD VA 22151</td>\n      <td>11/21/2003</td>\n      <td>291000</td>\n      <td>281090</td>\n      <td>237000</td>\n      <td>5958.04</td>\n      <td>173.56</td>\n    </tr>\n    <tr>\n      <th>4</th>\n      <td>5204 KINGS PARK DR   SPRINGFIELD VA 22151</td>\n      <td>02/17/1987</td>\n      <td>128500</td>\n      <td>266720</td>\n      <td>237000</td>\n      <td>5792.78</td>\n      <td>168.75</td>\n    </tr>\n  </tbody>\n</table>\n</div>"
     },
     "metadata": {},
     "execution_count": 13
    }
   ],
   "source": [
    "data = pd.read_csv('/Users/DanCassin/Development/scrapy_projects/operation_fairfax/fairfax.csv')\n",
    "\n",
    "data['current_assessment'] = data['current_building'] + data['current_land']\n",
    "data['total_taxes'] = data['general_fund_taxes'] + data['special_tax_dist']\n",
    "\n",
    "data.info()\n",
    "data.head()"
   ]
  },
  {
   "cell_type": "code",
   "execution_count": null,
   "metadata": {},
   "outputs": [],
   "source": []
  }
 ]
}